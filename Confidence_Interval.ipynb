{
 "cells": [
  {
   "cell_type": "markdown",
   "metadata": {},
   "source": [
    "# Confidence Interval\n",
    "\n",
    "There are multiple situation where we need to know Confidence interval. In order to address this issue in following table present 6 differents scenarios and approaches/formula to be considered. \n",
    "\n",
    "Coupled with this table is the code which will allow us to determine easily confince interval using Student t-table as well as Z-table.\n"
   ]
  },
  {
   "cell_type": "markdown",
   "metadata": {},
   "source": [
    "|ID| # Population | Population Variance     | Samples     | Statistic |  Variance            | ID Formula |\n",
    "|:---|:-------------|:------------------------|:------------|:----------|:-------------------------|------------:|\n",
    "| 1 | One          | Known                   | -           |  z        | $\\sigma^2$               | \\begin{equation}\n",
    "\\bar{X} \\pm Z_{\\alpha/2} \\times \\frac{\\sigma}{\\sqrt{n}}\n",
    "\\end{equation}     |\n",
    "| 2 | One          | Unknown                 | -           |  t        | $s^2$                    |\\begin{equation}\n",
    "\\bar{X} \\pm t_{n-1,\\alpha/2} \\times \\frac{s}{\\sqrt{n}}\n",
    "\\end{equation}|\n",
    "| 3 | Two          | -                       | Dependent   |  t        | $s^2_{difference}$       |\\begin{equation}\n",
    "\\bar{d} \\pm t_{n-1,\\alpha/2} \\times \\frac{s_d}{\\sqrt{n}}\n",
    "\\end{equation}|\n",
    "| 4 | Two          | Known                   | Independent |  z        | $\\sigma^2_x, \\sigma^2_y$ |\\begin{equation}\n",
    "(\\bar{x} - \\bar{y}) \\pm Z_{\\alpha/2} \\sqrt{\\frac{\\sigma^2_x}{n_x} + \\frac{\\sigma^2_y}{n_y}}\n",
    "\\end{equation}|\n",
    "| 5 | Two          | Unkown, assumed equal | Indepent    |  t        | $s^2_{p}$ (eq_s2p)        |\\begin{equation}\n",
    "(\\bar{x} - \\bar{y}) \\pm t_{n_x+n_y - 2, \\alpha/2} \\sqrt{\\frac{s^2_p}{n_x} + \\frac{s^2_p}{n_y}}\n",
    "\\end{equation}|\n",
    "| 6 | Two          | Unkown, assumed different | Independent |  t        | $s^2_x, s^2_y$           |\\begin{equation}\n",
    "(\\bar{x} - \\bar{y}) \\pm t_{\\upsilon, \\alpha/2} \\sqrt{\\frac{s^2_x}{n_x} + \\frac{s^2_y}{n_y}}\n",
    "\\end{equation}|\n",
    "\n",
    "\n",
    "\n"
   ]
  },
  {
   "cell_type": "markdown",
   "metadata": {},
   "source": [
    "\n",
    "\\begin{equation}\n",
    "    s_p^2 = \\frac{(n_x-1) \\times s_x^2 + (n_y - 1) \\times s_y^2}{n_x + n_y -2}\n",
    "    \\tag{eq_s2p}\n",
    "    \\label{variance_s2p}\n",
    "\\end{equation} "
   ]
  },
  {
   "cell_type": "markdown",
   "metadata": {},
   "source": [
    "## Import relevant libraries"
   ]
  },
  {
   "cell_type": "code",
   "execution_count": 1,
   "metadata": {},
   "outputs": [],
   "source": [
    "import numpy as np\n",
    "import pandas as pd\n",
    "import matplotlib.pyplot as plt\n",
    "from collections import Counter"
   ]
  },
  {
   "cell_type": "markdown",
   "metadata": {},
   "source": [
    "## Creating Class, Confidence_interval"
   ]
  },
  {
   "cell_type": "code",
   "execution_count": 2,
   "metadata": {},
   "outputs": [],
   "source": [
    "class Confidence_interval:\n",
    "    def __init__(self, data, data2=None, z_half=None, tn_1_half=None, tnx_ny_2_half=None, tv_half=None, std=None, std2=None):\n",
    "        self.data = data\n",
    "        self.data2=data2\n",
    "        self.z_half = z_half\n",
    "        self.tn_1_half = tn_1_half\n",
    "        self.tnx_ny_2_half = tnx_ny_2_half\n",
    "        self.tv_half = tv_half\n",
    "        self.std = std\n",
    "        self.std2 = std2\n",
    "        \n",
    "        # Calculate attributes\n",
    "            # sample 1\n",
    "        self.var_sample1 = np.std(data)\n",
    "        self.std_sample1 = np.std(data)\n",
    "        self.mean_sample1 = np.mean(data)\n",
    "        self.n1 = len(data)\n",
    "            # sample 2\n",
    "        try:\n",
    "            if len(self.data2) != None:\n",
    "                self.var_sample2 = np.std(data2)\n",
    "                self.std_sample2 = np.std(data2)\n",
    "                self.mean_sample2 = np.mean(data2)\n",
    "                self.n2 = len(data2)\n",
    "        except:\n",
    "            pass\n",
    "        \n",
    "        \n",
    "    def one_var_known(self):\n",
    "        \"\"\" \n",
    "        1: One data, Known POPULATION (original data) variance\n",
    "        \"\"\"\n",
    "        low = self.mean_sample1 - self.z_half * self.std / np.sqrt(self.n1)\n",
    "        high = self.mean_sample1 + self.z_half * self.std / np.sqrt(self.n1)\n",
    "        return low, high\n",
    "    \n",
    "    def one_var_unknown(self):\n",
    "        \"\"\" \n",
    "        2: One data, Unknown POPULATION (original data) variance\n",
    "        \"\"\"\n",
    "        low = self.mean_sample1 - self.tn_1_half * self.std_sample1 / np.sqrt(self.n1)\n",
    "        high = self.mean_sample1 + self.tn_1_half * self.var_sample1 / np.sqrt(self.n1)\n",
    "        return low, high\n",
    "    \n",
    "    def two_dependent(self):#(data1, data2, tn_1_half, std_sample_d, ):\n",
    "        \"\"\" \n",
    "        3:  Two data, no info POPULATION (original data) variance, DEPENDENT\n",
    "        \"\"\"\n",
    "        if len(self.data) == len(self.data2):\n",
    "            mean = np.mean(self.data - self.data2)\n",
    "            std_sample_d = np.std(self.data - self.data2)\n",
    "            low = mean - self.tn_1_half * std_sample_d / np.sqrt(self.n1)\n",
    "            high = mean + self.tn_1_half * std_sample_d / np.sqrt(self.n1)\n",
    "            return  low, high\n",
    "\n",
    "        else:\n",
    "            print('\\n....\\nERROR: diffent data size\\n...check inputs data')\n",
    "    \n",
    "\n",
    "    def two_known_ind(self):\n",
    "        \"\"\" \n",
    "        4: Two data, Known POPULATION (original data) variance, Independent from each other\n",
    "        \"\"\"\n",
    "        low = (self.mean_sample1 - self.mean_sample2) - self.z_half * np.sqrt(self.std**2/self.n1 + self.std2**2/self.n2)\n",
    "        high = (self.mean_sample1 - self.mean_sample2) + self.z_half * np.sqrt(self.std**2/self.n1 + self.std2**2/self.n2)\n",
    "        return low, high\n",
    "    \n",
    "    def variance_p(self):\n",
    "        s2_p_numerator = (self.n1-1)* self.var_sample1 + (self.n2-1)*self.var_sample2\n",
    "        s2_p_denominator = self.n1 + self.n2 -2\n",
    "        return s2_p_numerator / s2_p_denominator\n",
    "    \n",
    "    def two_var_assumed_equal(self):#(data1, data2, tnx_ny_2_half):\n",
    "        \"\"\" \n",
    "        5: Two data, Unknown their POPULATION (original data) variance but Assumed being EQUAL, Independent each other\n",
    "        \"\"\"\n",
    "        var_p = self.variance_p()\n",
    "        low = (self.mean_sample1 - self.mean_sample2) - self.tnx_ny_2_half * np.sqrt(var_p**2/self.n1 + var_p**2/self.n2)\n",
    "        high = (self.mean_sample1 - self.mean_sample2) + self.tnx_ny_2_half * np.sqrt(var_p**2/self.n1 + var_p**2/self.n2)\n",
    "        return low, high\n",
    "    \n",
    "    def two_var_assumed_not_equal(self):\n",
    "        low = (self.mean_sample1 - self.mean_sample2) - self.tv_half * np.sqrt(self.std_sample1**2/self.n1 + self.std_sample2**2/self.n2)\n",
    "        high = (self.mean_sample1 - self.mean_sample2) + self.tv_half * np.sqrt(self.std_sample1**2/self.n1 + self.std_sample2**2/self.n2)\n",
    "        return low, high"
   ]
  },
  {
   "cell_type": "markdown",
   "metadata": {},
   "source": [
    "## Use case"
   ]
  },
  {
   "cell_type": "code",
   "execution_count": 3,
   "metadata": {},
   "outputs": [],
   "source": [
    "# Seed for reproducibity\n",
    "np.random.seed(505)"
   ]
  },
  {
   "cell_type": "code",
   "execution_count": 4,
   "metadata": {},
   "outputs": [],
   "source": [
    "# Generating data (data and data2)\n",
    "data  = np.array([ np.mean(np.random.choice(np.linspace(100, 250, 150), 10)) for i in range(200)])\n",
    "data2 = np.array([ np.mean(np.random.choice(np.linspace(120, 270, 150), 10)) for i in range(20)])"
   ]
  },
  {
   "cell_type": "code",
   "execution_count": 5,
   "metadata": {},
   "outputs": [
    {
     "name": "stdout",
     "output_type": "stream",
     "text": [
      "One Data with Known population variance \n",
      "--> aux = Confidence_interval(data, z_half=2, std=30) \n",
      "--> aux.one_var_known()\n",
      "(170.39443984979349, 178.87972122403207) \n",
      "\n",
      "\n",
      "One Data with Unknown population variance \n",
      "--> aux = Confidence_interval(data, tn_1_half=2, std=30) \n",
      "--> aux.one_var_unknown()\n",
      "(172.8831951554691, 176.39096591835644) \n",
      "\n",
      "\n",
      "Two Data Dependent\n",
      "--> aux =  Confidence_interval(data, data2=data2, tn_1_half=2) \n",
      "--> aux.two_dependent()\n",
      "\n",
      "....\n",
      "ERROR: diffent data size\n",
      "...check inputs data\n",
      "None \n",
      "\n",
      "\n",
      "Two Independent Data Known Variance\n",
      "--> aux =  Confidence_interval(data, data2=data2, z_half=2, std=4, std2=4) \n",
      "--> aux.two_known_ind()\n",
      "(-26.930360934801847, -23.1780283269431) \n",
      "\n",
      "\n",
      "Two Independent Data with variance assumed to be EQUAL\n",
      "--> aux =  Confidence_interval(data, data2=data2, z_half=2, std=4, std2=4) \n",
      "--> aux.two_known_ind()\n",
      "(-33.91539057346099, -16.192998688283957) \n",
      "\n",
      "\n",
      "Two Independent Data with variance assumed to be NOT EQUAL\n",
      "--> aux =  Confidence_interval(data, data2=data2, tv_half=3) \n",
      "--> aux.two_var_assumed_not_equal()\n",
      "(-35.20525123316126, -14.903138028583683)\n"
     ]
    }
   ],
   "source": [
    "# 6 use case of the class Confidence_interval \n",
    "\n",
    "print('One Data with Known population variance ')\n",
    "print('--> aux = Confidence_interval(data, z_half=2, std=30) \\n--> aux.one_var_known()')\n",
    "aux = Confidence_interval(data, z_half=2, std=30)\n",
    "print(aux.one_var_known(), '\\n\\n')\n",
    "\n",
    "\n",
    "print('One Data with Unknown population variance ')\n",
    "print('--> aux = Confidence_interval(data, tn_1_half=2, std=30) \\n--> aux.one_var_unknown()')\n",
    "aux = Confidence_interval(data, tn_1_half=2, std=30)\n",
    "print(aux.one_var_unknown(), '\\n\\n')\n",
    "\n",
    "\n",
    "print('Two Data Dependent')\n",
    "print('--> aux =  Confidence_interval(data, data2=data2, tn_1_half=2) \\n--> aux.two_dependent()')\n",
    "aux =  Confidence_interval(data, data2=data2, tn_1_half=2)\n",
    "print(aux.two_dependent(), '\\n\\n')\n",
    "\n",
    "\n",
    "\n",
    "print('Two Independent Data Known Variance')\n",
    "print('--> aux =  Confidence_interval(data, data2=data2, z_half=2, std=4, std2=4) \\n--> aux.two_known_ind()')\n",
    "aux =  Confidence_interval(data, data2=data2, z_half=2, std=4, std2=4)\n",
    "print(aux.two_known_ind(), '\\n\\n')\n",
    "\n",
    "\n",
    "print('Two Independent Data with variance assumed to be EQUAL')\n",
    "print('--> aux =  Confidence_interval(data, data2=data2, z_half=2, std=4, std2=4) \\n--> aux.two_known_ind()')\n",
    "aux =  Confidence_interval(data, data2=data2, tnx_ny_2_half=3)\n",
    "print(aux.two_var_assumed_equal(), '\\n\\n')\n",
    "\n",
    "\n",
    "print('Two Independent Data with variance assumed to be NOT EQUAL')\n",
    "print('--> aux =  Confidence_interval(data, data2=data2, tv_half=3) \\n--> aux.two_var_assumed_not_equal()')\n",
    "aux =  Confidence_interval(data, data2=data2, tv_half=3)\n",
    "print(aux.two_var_assumed_not_equal())"
   ]
  },
  {
   "cell_type": "code",
   "execution_count": null,
   "metadata": {},
   "outputs": [],
   "source": []
  }
 ],
 "metadata": {
  "kernelspec": {
   "display_name": "Python 3",
   "language": "python",
   "name": "python3"
  },
  "language_info": {
   "codemirror_mode": {
    "name": "ipython",
    "version": 3
   },
   "file_extension": ".py",
   "mimetype": "text/x-python",
   "name": "python",
   "nbconvert_exporter": "python",
   "pygments_lexer": "ipython3",
   "version": "3.7.1"
  }
 },
 "nbformat": 4,
 "nbformat_minor": 4
}
