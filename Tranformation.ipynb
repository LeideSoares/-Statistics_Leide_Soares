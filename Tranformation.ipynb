{
 "cells": [
  {
   "cell_type": "markdown",
   "metadata": {},
   "source": [
    "# Hypotheses Testing\n",
    "There are many way of providing hypothesis testing from test with one unique variables e many variables added dependency to it.\n",
    "\n",
    "Therefore, the aims of this notebook is provide python coding with all case of the hypothesys testing as follow:\n"
   ]
  },
  {
   "cell_type": "markdown",
   "metadata": {},
   "source": [
    "| # Population | Population Variance     | Samples     | Statistic |  Variance            | ID Formula |\n",
    "|:-------------|:------------------------|:------------|:----------|:-------------------------|------------:|\n",
    "| One          | Known                   | -           |  z        | $\\sigma^2$               | \\begin{equation}\n",
    "\\bar{X} \\pm Z_{\\alpha/2} \\times \\frac{\\sigma}{\\sqrt{n}}\n",
    "\\end{equation}     |\n",
    "| One          | Unknown                 | -           |  t        | $s^2$                    |\\begin{equation}\n",
    "\\bar{X} \\pm t_{n-1,\\alpha/2} \\times \\frac{s}{\\sqrt{n}}\n",
    "\\end{equation}|\n",
    "| Two          | -                       | Dependent   |  t        | $s^2_{difference}$       |\\begin{equation}\n",
    "\\bar{d} \\pm t_{n-1,\\alpha/2} \\times \\frac{s_d}{\\sqrt{n}}\n",
    "\\end{equation}|\n",
    "| Two          | Known                   | Independent |  z        | $\\sigma^2_x, \\sigma^2_y$ |\\begin{equation}\n",
    "(\\bar{x} - \\bar{y}) \\pm Z_{\\alpha/2} \\sqrt{\\frac{\\sigma^2_x}{n_x} + \\frac{\\sigma^2_y}{n_y}}\n",
    "\\end{equation}|\n",
    "| Two          | Unkown, \\nassumed equal | Indepent    |  t        | $s^2_{p}$ (eq_s2p)        |\\begin{equation}\n",
    "(\\bar{x} - \\bar{y}) \\pm t_{n_x+n_y - 2, \\alpha/2} \\sqrt{\\frac{s^2_x}{n_x} + \\frac{s^2_y}{n_y}}\n",
    "\\end{equation}|\n",
    "| Two          | Unkown, \\nassumed equal | Independent |  t        | $s^2_x, s^2_y$           |\\begin{equation}\n",
    "(\\bar{x} - \\bar{y}) \\pm t_{\\upsilon, \\alpha/2} \\sqrt{\\frac{s^2_x}{n_x} + \\frac{s^2_y}{n_y}}\n",
    "\\end{equation}|\n",
    "\n",
    "\n",
    "\n"
   ]
  },
  {
   "cell_type": "markdown",
   "metadata": {},
   "source": [
    "\n",
    "\\begin{equation}\n",
    "    s_p^2 = \\frac{(n_x-1) \\times s_x^2 + (n_y - 1) \\times s_y^2}{n_x + n_y -2}\n",
    "    \\tag{eq_s2p}\n",
    "    \\label{variance_s2p}\n",
    "\\end{equation} "
   ]
  },
  {
   "cell_type": "markdown",
   "metadata": {},
   "source": [
    "# Import relevant libraries"
   ]
  },
  {
   "cell_type": "code",
   "execution_count": 57,
   "metadata": {},
   "outputs": [],
   "source": [
    "import numpy as np\n",
    "import pandas as pd\n",
    "import matplotlib.pyplot as plt\n",
    "from collections import Counter"
   ]
  },
  {
   "cell_type": "code",
   "execution_count": 48,
   "metadata": {},
   "outputs": [],
   "source": [
    "np.random.seed(505)"
   ]
  },
  {
   "cell_type": "markdown",
   "metadata": {},
   "source": [
    "# Considerations\n",
    "Before going to dig deep in statistic let's review take into account some considerations:\n",
    "- Standardization of data\n",
    "- Normalization of data\n",
    "\n",
    "Then, there is:\n",
    "\n",
    "### Standardization\n",
    "Standardize dataset is benefical to deal with statistical analysis, it preserves the distribution of data but converting the mean to `zero (0)` and standard deviation to `one (1)`. The formula is presented below:\n",
    "\n",
    "$$Standardized  Distribution = \\frac{X - \\nu}{\\sigma}$$\n",
    "\n",
    "With,\n",
    "- X --> data\n",
    "- $\\nu$ -- > mean of data\n",
    "- $\\sigma$ --> std deviation\n",
    "\n",
    "So, let's create dataset and apply standardization"
   ]
  },
  {
   "cell_type": "code",
   "execution_count": 49,
   "metadata": {},
   "outputs": [
    {
     "data": {
      "image/png": "[encoded data removed]",
      "text/plain": [
       "<Figure size 432x288 with 1 Axes>"
      ]
     },
     "metadata": {
      "needs_background": "light"
     },
     "output_type": "display_data"
    }
   ],
   "source": [
    "# random data size 100.000 \n",
    "# simulate weight of the population from 50 to 200 kg\n",
    "\n",
    "size =  100000\n",
    "\n",
    "values = np.array(list(range(50,201)))\n",
    "\n",
    "data = [i + np.random.choice(values) for i in np.linspace(1,20,size)]\n",
    "plt.hist(data, bins=50, edgecolor='black');"
   ]
  },
  {
   "cell_type": "code",
   "execution_count": 50,
   "metadata": {},
   "outputs": [],
   "source": [
    "mean = np.mean(data)\n",
    "std = np.std(data)\n",
    "\n",
    "data_std = (data - mean) / std "
   ]
  },
  {
   "cell_type": "code",
   "execution_count": 51,
   "metadata": {},
   "outputs": [
    {
     "data": {
      "text/plain": [
       "Text(0.5, 0, 'Compare MAGNITUDE with \\naxis in histogram Left hand')"
      ]
     },
     "execution_count": 51,
     "metadata": {},
     "output_type": "execute_result"
    },
    {
     "data": {
      "image/png": "[encoded data removed]",
      "text/plain": [
       "<Figure size 1080x216 with 2 Axes>"
      ]
     },
     "metadata": {
      "needs_background": "light"
     },
     "output_type": "display_data"
    }
   ],
   "source": [
    "fig = plt.figure(figsize=(15,3))\n",
    "\n",
    "plt.subplot(1,2,1)\n",
    "plt.hist(data, bins=50, edgecolor='black');\n",
    "plt.title('Original Data', fontsize=20)\n",
    "plt.xlabel('Compare MAGNITUDE with \\naxis in histogram Right hand', fontsize=14)\n",
    "\n",
    "plt.subplot(1,2,2)\n",
    "plt.hist(data_std, bins=50, edgecolor='black');\n",
    "plt.title('Standardized Data', fontsize=20)\n",
    "plt.xlabel('Compare MAGNITUDE with \\naxis in histogram Left hand', fontsize=14)"
   ]
  },
  {
   "cell_type": "markdown",
   "metadata": {},
   "source": [
    "## Normalization\n",
    "There some ways to normalise the data. One of the commonly used is getting the difference between values and min of the data divided by the different between max and min values. So, formula would look like this:\n",
    "$$Normalization = \\frac{X - min(X)}{max(X) - min(X)}$$"
   ]
  },
  {
   "cell_type": "code",
   "execution_count": 52,
   "metadata": {},
   "outputs": [],
   "source": [
    "\"\"\"Iused numpy min and max due to performance \"\"\"\n",
    "data_norm = (data - np.min(data)) / (np.max(data) - np.min(data))"
   ]
  },
  {
   "cell_type": "code",
   "execution_count": 53,
   "metadata": {},
   "outputs": [
    {
     "data": {
      "text/plain": [
       "Text(0.5, 0, 'Compare MAGNITUDE with \\naxis in histogram Left hand')"
      ]
     },
     "execution_count": 53,
     "metadata": {},
     "output_type": "execute_result"
    },
    {
     "data": {
      "image/png": "[encoded data removed]",
      "text/plain": [
       "<Figure size 1080x216 with 2 Axes>"
      ]
     },
     "metadata": {
      "needs_background": "light"
     },
     "output_type": "display_data"
    }
   ],
   "source": [
    "fig = plt.figure(figsize=(15,3))\n",
    "\n",
    "plt.subplot(1,2,1)\n",
    "plt.hist(data, bins=50, edgecolor='black');\n",
    "plt.title('Original Data', fontsize=20)\n",
    "plt.xlabel('Compare MAGNITUDE with \\naxis in histogram Right hand', fontsize=14)\n",
    "\n",
    "plt.subplot(1,2,2)\n",
    "plt.hist(data_norm, bins=50, edgecolor='black');\n",
    "plt.title('Normalized Data', fontsize=20)\n",
    "plt.xlabel('Compare MAGNITUDE with \\naxis in histogram Left hand', fontsize=14)"
   ]
  },
  {
   "cell_type": "markdown",
   "metadata": {},
   "source": [
    "# Hypothese Testing"
   ]
  },
  {
   "cell_type": "code",
   "execution_count": 58,
   "metadata": {},
   "outputs": [
    {
     "data": {
      "text/plain": [
       "Counter({'h': 2,\n",
       "         'n': 2,\n",
       "         'a': 4,\n",
       "         's': 2,\n",
       "         'd': 6,\n",
       "         'j': 3,\n",
       "         'm': 6,\n",
       "         'b': 1,\n",
       "         '/': 1,\n",
       "         'q': 4,\n",
       "         ';': 1,\n",
       "         'k': 3,\n",
       "         'w': 2,\n",
       "         'c': 4,\n",
       "         '.': 1})"
      ]
     },
     "execution_count": 58,
     "metadata": {},
     "output_type": "execute_result"
    }
   ],
   "source": []
  }
 ],
 "metadata": {
  "kernelspec": {
   "display_name": "Python 3",
   "language": "python",
   "name": "python3"
  },
  "language_info": {
   "codemirror_mode": {
    "name": "ipython",
    "version": 3
   },
   "file_extension": ".py",
   "mimetype": "text/x-python",
   "name": "python",
   "nbconvert_exporter": "python",
   "pygments_lexer": "ipython3",
   "version": "3.7.1"
  }
 },
 "nbformat": 4,
 "nbformat_minor": 4
}
